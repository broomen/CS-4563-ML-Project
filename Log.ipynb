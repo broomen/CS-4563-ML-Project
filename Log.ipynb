{
  "nbformat": 4,
  "nbformat_minor": 0,
  "metadata": {
    "colab": {
      "name": "Log.ipynb",
      "provenance": []
    },
    "kernelspec": {
      "name": "python3",
      "display_name": "Python 3"
    },
    "language_info": {
      "name": "python"
    }
  },
  "cells": [
    {
      "cell_type": "code",
      "execution_count": 22,
      "metadata": {
        "id": "h_xMnXbXzisX"
      },
      "outputs": [],
      "source": [
        "import pandas as pd\n",
        "import numpy as np\n",
        "import matplotlib.pyplot as plt\n",
        "from sklearn import preprocessing\n",
        "from sklearn.preprocessing import PolynomialFeatures\n",
        "from sklearn.model_selection import train_test_split\n",
        "from sklearn.linear_model import LogisticRegression"
      ]
    },
    {
      "cell_type": "markdown",
      "source": [
        "**Importing Data**\n",
        "\n",
        "Importing from our train.csv file and preprocessing it."
      ],
      "metadata": {
        "id": "PE3_8fqBlUrJ"
      }
    },
    {
      "cell_type": "code",
      "source": [
        "df = pd.read_csv('./train.csv')\n",
        "df.drop(df.columns[[0]], axis=1, inplace=True)\n",
        "category = pd.cut(df.Pawpularity, bins=[0, 38, 101], labels=[-1, 1])\n",
        "df.insert(12, 'Pawpularity Group', category)\n",
        "# Now, we drop the original Pawpularity score after adding classified scores:\n",
        "df.drop(df.columns[[-1]], axis=1, inplace=True)\n",
        "df.head(10000)"
      ],
      "metadata": {
        "colab": {
          "base_uri": "https://localhost:8080/",
          "height": 424
        },
        "id": "8FHS_v1b0FEs",
        "outputId": "5ca5ce72-e5b7-4cf9-9c55-f0cebc023987"
      },
      "execution_count": 45,
      "outputs": [
        {
          "output_type": "execute_result",
          "data": {
            "text/plain": [
              "      Subject Focus  Eyes  Face  Near  Action  Accessory  Group  Collage  \\\n",
              "0                 0     1     1     1       0          0      1        0   \n",
              "1                 0     1     1     0       0          0      0        0   \n",
              "2                 0     1     1     1       0          0      0        0   \n",
              "3                 0     1     1     1       0          0      0        0   \n",
              "4                 0     0     0     1       0          0      1        0   \n",
              "...             ...   ...   ...   ...     ...        ...    ...      ...   \n",
              "9907              0     0     0     1       0          0      0        0   \n",
              "9908              0     1     1     1       0          0      0        0   \n",
              "9909              0     1     1     1       0          0      0        0   \n",
              "9910              0     1     1     1       0          0      0        0   \n",
              "9911              0     1     1     1       0          0      0        0   \n",
              "\n",
              "      Human  Occlusion  Info  Blur Pawpularity Group  \n",
              "0         0          0     0     0                 1  \n",
              "1         0          0     0     0                 1  \n",
              "2         1          1     0     0                -1  \n",
              "3         0          0     0     0                -1  \n",
              "4         0          0     0     0                 1  \n",
              "...     ...        ...   ...   ...               ...  \n",
              "9907      0          0     0     1                -1  \n",
              "9908      0          0     0     0                 1  \n",
              "9909      1          1     0     0                -1  \n",
              "9910      1          0     0     0                -1  \n",
              "9911      0          0     0     0                -1  \n",
              "\n",
              "[9912 rows x 13 columns]"
            ],
            "text/html": [
              "\n",
              "  <div id=\"df-fb939fe8-ea8a-4176-a60d-8bb8131ac0a1\">\n",
              "    <div class=\"colab-df-container\">\n",
              "      <div>\n",
              "<style scoped>\n",
              "    .dataframe tbody tr th:only-of-type {\n",
              "        vertical-align: middle;\n",
              "    }\n",
              "\n",
              "    .dataframe tbody tr th {\n",
              "        vertical-align: top;\n",
              "    }\n",
              "\n",
              "    .dataframe thead th {\n",
              "        text-align: right;\n",
              "    }\n",
              "</style>\n",
              "<table border=\"1\" class=\"dataframe\">\n",
              "  <thead>\n",
              "    <tr style=\"text-align: right;\">\n",
              "      <th></th>\n",
              "      <th>Subject Focus</th>\n",
              "      <th>Eyes</th>\n",
              "      <th>Face</th>\n",
              "      <th>Near</th>\n",
              "      <th>Action</th>\n",
              "      <th>Accessory</th>\n",
              "      <th>Group</th>\n",
              "      <th>Collage</th>\n",
              "      <th>Human</th>\n",
              "      <th>Occlusion</th>\n",
              "      <th>Info</th>\n",
              "      <th>Blur</th>\n",
              "      <th>Pawpularity Group</th>\n",
              "    </tr>\n",
              "  </thead>\n",
              "  <tbody>\n",
              "    <tr>\n",
              "      <th>0</th>\n",
              "      <td>0</td>\n",
              "      <td>1</td>\n",
              "      <td>1</td>\n",
              "      <td>1</td>\n",
              "      <td>0</td>\n",
              "      <td>0</td>\n",
              "      <td>1</td>\n",
              "      <td>0</td>\n",
              "      <td>0</td>\n",
              "      <td>0</td>\n",
              "      <td>0</td>\n",
              "      <td>0</td>\n",
              "      <td>1</td>\n",
              "    </tr>\n",
              "    <tr>\n",
              "      <th>1</th>\n",
              "      <td>0</td>\n",
              "      <td>1</td>\n",
              "      <td>1</td>\n",
              "      <td>0</td>\n",
              "      <td>0</td>\n",
              "      <td>0</td>\n",
              "      <td>0</td>\n",
              "      <td>0</td>\n",
              "      <td>0</td>\n",
              "      <td>0</td>\n",
              "      <td>0</td>\n",
              "      <td>0</td>\n",
              "      <td>1</td>\n",
              "    </tr>\n",
              "    <tr>\n",
              "      <th>2</th>\n",
              "      <td>0</td>\n",
              "      <td>1</td>\n",
              "      <td>1</td>\n",
              "      <td>1</td>\n",
              "      <td>0</td>\n",
              "      <td>0</td>\n",
              "      <td>0</td>\n",
              "      <td>0</td>\n",
              "      <td>1</td>\n",
              "      <td>1</td>\n",
              "      <td>0</td>\n",
              "      <td>0</td>\n",
              "      <td>-1</td>\n",
              "    </tr>\n",
              "    <tr>\n",
              "      <th>3</th>\n",
              "      <td>0</td>\n",
              "      <td>1</td>\n",
              "      <td>1</td>\n",
              "      <td>1</td>\n",
              "      <td>0</td>\n",
              "      <td>0</td>\n",
              "      <td>0</td>\n",
              "      <td>0</td>\n",
              "      <td>0</td>\n",
              "      <td>0</td>\n",
              "      <td>0</td>\n",
              "      <td>0</td>\n",
              "      <td>-1</td>\n",
              "    </tr>\n",
              "    <tr>\n",
              "      <th>4</th>\n",
              "      <td>0</td>\n",
              "      <td>0</td>\n",
              "      <td>0</td>\n",
              "      <td>1</td>\n",
              "      <td>0</td>\n",
              "      <td>0</td>\n",
              "      <td>1</td>\n",
              "      <td>0</td>\n",
              "      <td>0</td>\n",
              "      <td>0</td>\n",
              "      <td>0</td>\n",
              "      <td>0</td>\n",
              "      <td>1</td>\n",
              "    </tr>\n",
              "    <tr>\n",
              "      <th>...</th>\n",
              "      <td>...</td>\n",
              "      <td>...</td>\n",
              "      <td>...</td>\n",
              "      <td>...</td>\n",
              "      <td>...</td>\n",
              "      <td>...</td>\n",
              "      <td>...</td>\n",
              "      <td>...</td>\n",
              "      <td>...</td>\n",
              "      <td>...</td>\n",
              "      <td>...</td>\n",
              "      <td>...</td>\n",
              "      <td>...</td>\n",
              "    </tr>\n",
              "    <tr>\n",
              "      <th>9907</th>\n",
              "      <td>0</td>\n",
              "      <td>0</td>\n",
              "      <td>0</td>\n",
              "      <td>1</td>\n",
              "      <td>0</td>\n",
              "      <td>0</td>\n",
              "      <td>0</td>\n",
              "      <td>0</td>\n",
              "      <td>0</td>\n",
              "      <td>0</td>\n",
              "      <td>0</td>\n",
              "      <td>1</td>\n",
              "      <td>-1</td>\n",
              "    </tr>\n",
              "    <tr>\n",
              "      <th>9908</th>\n",
              "      <td>0</td>\n",
              "      <td>1</td>\n",
              "      <td>1</td>\n",
              "      <td>1</td>\n",
              "      <td>0</td>\n",
              "      <td>0</td>\n",
              "      <td>0</td>\n",
              "      <td>0</td>\n",
              "      <td>0</td>\n",
              "      <td>0</td>\n",
              "      <td>0</td>\n",
              "      <td>0</td>\n",
              "      <td>1</td>\n",
              "    </tr>\n",
              "    <tr>\n",
              "      <th>9909</th>\n",
              "      <td>0</td>\n",
              "      <td>1</td>\n",
              "      <td>1</td>\n",
              "      <td>1</td>\n",
              "      <td>0</td>\n",
              "      <td>0</td>\n",
              "      <td>0</td>\n",
              "      <td>0</td>\n",
              "      <td>1</td>\n",
              "      <td>1</td>\n",
              "      <td>0</td>\n",
              "      <td>0</td>\n",
              "      <td>-1</td>\n",
              "    </tr>\n",
              "    <tr>\n",
              "      <th>9910</th>\n",
              "      <td>0</td>\n",
              "      <td>1</td>\n",
              "      <td>1</td>\n",
              "      <td>1</td>\n",
              "      <td>0</td>\n",
              "      <td>0</td>\n",
              "      <td>0</td>\n",
              "      <td>0</td>\n",
              "      <td>1</td>\n",
              "      <td>0</td>\n",
              "      <td>0</td>\n",
              "      <td>0</td>\n",
              "      <td>-1</td>\n",
              "    </tr>\n",
              "    <tr>\n",
              "      <th>9911</th>\n",
              "      <td>0</td>\n",
              "      <td>1</td>\n",
              "      <td>1</td>\n",
              "      <td>1</td>\n",
              "      <td>0</td>\n",
              "      <td>0</td>\n",
              "      <td>0</td>\n",
              "      <td>0</td>\n",
              "      <td>0</td>\n",
              "      <td>0</td>\n",
              "      <td>0</td>\n",
              "      <td>0</td>\n",
              "      <td>-1</td>\n",
              "    </tr>\n",
              "  </tbody>\n",
              "</table>\n",
              "<p>9912 rows × 13 columns</p>\n",
              "</div>\n",
              "      <button class=\"colab-df-convert\" onclick=\"convertToInteractive('df-fb939fe8-ea8a-4176-a60d-8bb8131ac0a1')\"\n",
              "              title=\"Convert this dataframe to an interactive table.\"\n",
              "              style=\"display:none;\">\n",
              "        \n",
              "  <svg xmlns=\"http://www.w3.org/2000/svg\" height=\"24px\"viewBox=\"0 0 24 24\"\n",
              "       width=\"24px\">\n",
              "    <path d=\"M0 0h24v24H0V0z\" fill=\"none\"/>\n",
              "    <path d=\"M18.56 5.44l.94 2.06.94-2.06 2.06-.94-2.06-.94-.94-2.06-.94 2.06-2.06.94zm-11 1L8.5 8.5l.94-2.06 2.06-.94-2.06-.94L8.5 2.5l-.94 2.06-2.06.94zm10 10l.94 2.06.94-2.06 2.06-.94-2.06-.94-.94-2.06-.94 2.06-2.06.94z\"/><path d=\"M17.41 7.96l-1.37-1.37c-.4-.4-.92-.59-1.43-.59-.52 0-1.04.2-1.43.59L10.3 9.45l-7.72 7.72c-.78.78-.78 2.05 0 2.83L4 21.41c.39.39.9.59 1.41.59.51 0 1.02-.2 1.41-.59l7.78-7.78 2.81-2.81c.8-.78.8-2.07 0-2.86zM5.41 20L4 18.59l7.72-7.72 1.47 1.35L5.41 20z\"/>\n",
              "  </svg>\n",
              "      </button>\n",
              "      \n",
              "  <style>\n",
              "    .colab-df-container {\n",
              "      display:flex;\n",
              "      flex-wrap:wrap;\n",
              "      gap: 12px;\n",
              "    }\n",
              "\n",
              "    .colab-df-convert {\n",
              "      background-color: #E8F0FE;\n",
              "      border: none;\n",
              "      border-radius: 50%;\n",
              "      cursor: pointer;\n",
              "      display: none;\n",
              "      fill: #1967D2;\n",
              "      height: 32px;\n",
              "      padding: 0 0 0 0;\n",
              "      width: 32px;\n",
              "    }\n",
              "\n",
              "    .colab-df-convert:hover {\n",
              "      background-color: #E2EBFA;\n",
              "      box-shadow: 0px 1px 2px rgba(60, 64, 67, 0.3), 0px 1px 3px 1px rgba(60, 64, 67, 0.15);\n",
              "      fill: #174EA6;\n",
              "    }\n",
              "\n",
              "    [theme=dark] .colab-df-convert {\n",
              "      background-color: #3B4455;\n",
              "      fill: #D2E3FC;\n",
              "    }\n",
              "\n",
              "    [theme=dark] .colab-df-convert:hover {\n",
              "      background-color: #434B5C;\n",
              "      box-shadow: 0px 1px 3px 1px rgba(0, 0, 0, 0.15);\n",
              "      filter: drop-shadow(0px 1px 2px rgba(0, 0, 0, 0.3));\n",
              "      fill: #FFFFFF;\n",
              "    }\n",
              "  </style>\n",
              "\n",
              "      <script>\n",
              "        const buttonEl =\n",
              "          document.querySelector('#df-fb939fe8-ea8a-4176-a60d-8bb8131ac0a1 button.colab-df-convert');\n",
              "        buttonEl.style.display =\n",
              "          google.colab.kernel.accessAllowed ? 'block' : 'none';\n",
              "\n",
              "        async function convertToInteractive(key) {\n",
              "          const element = document.querySelector('#df-fb939fe8-ea8a-4176-a60d-8bb8131ac0a1');\n",
              "          const dataTable =\n",
              "            await google.colab.kernel.invokeFunction('convertToInteractive',\n",
              "                                                     [key], {});\n",
              "          if (!dataTable) return;\n",
              "\n",
              "          const docLinkHtml = 'Like what you see? Visit the ' +\n",
              "            '<a target=\"_blank\" href=https://colab.research.google.com/notebooks/data_table.ipynb>data table notebook</a>'\n",
              "            + ' to learn more about interactive tables.';\n",
              "          element.innerHTML = '';\n",
              "          dataTable['output_type'] = 'display_data';\n",
              "          await google.colab.output.renderOutput(dataTable, element);\n",
              "          const docLink = document.createElement('div');\n",
              "          docLink.innerHTML = docLinkHtml;\n",
              "          element.appendChild(docLink);\n",
              "        }\n",
              "      </script>\n",
              "    </div>\n",
              "  </div>\n",
              "  "
            ]
          },
          "metadata": {},
          "execution_count": 45
        }
      ]
    },
    {
      "cell_type": "code",
      "source": [
        "Y = df.loc[:, 'Pawpularity Group']\n",
        "X = df.iloc[:, :-1]\n",
        "# filter features\n",
        "scaler = preprocessing.StandardScaler()\n",
        "X_scaled_array = scaler.fit_transform(X)\n",
        "y_array = np.array(Y)\n",
        "Y = np.reshape(Y, (Y.shape[0], ))\n",
        "# y_array = np.array(Y)\n",
        "print(\"The shape of X:\",X.shape)\n",
        "print(\"The shape of Y:\",Y.shape)\n",
        "x_train, x_test, y_train, y_test = train_test_split(X, Y, test_size = 0.2, shuffle=True)"
      ],
      "metadata": {
        "colab": {
          "base_uri": "https://localhost:8080/"
        },
        "id": "WlFGfCgn1hW0",
        "outputId": "79d38a34-06ef-4759-da95-a11bc7333185"
      },
      "execution_count": 46,
      "outputs": [
        {
          "output_type": "stream",
          "name": "stdout",
          "text": [
            "The shape of X: (9912, 12)\n",
            "The shape of Y: (9912,)\n"
          ]
        }
      ]
    },
    {
      "cell_type": "markdown",
      "source": [
        "The below code snippet is for generating our graphs and keeping it easy and consistent."
      ],
      "metadata": {
        "id": "KLIAPC-T07iR"
      }
    },
    {
      "cell_type": "code",
      "source": [
        "def generate_graph(title, x, y1, y2):\n",
        "    plt.title(title)\n",
        "    plt.xlabel(\"C\")\n",
        "    plt.ylabel(\"Accuracy\")\n",
        "    plt.plot(x, y1, \"r-\")\n",
        "    plt.plot(x, y2, color=\"green\")\n",
        "    plt.xscale(\"log\")\n",
        "    plt.ylim([0.55, 0.65])\n",
        "    plt.legend(['Training Acc', 'Test Acc'], loc='lower left')\n",
        "    plt.show()"
      ],
      "metadata": {
        "id": "3dfcfeZxql1r"
      },
      "execution_count": 25,
      "outputs": []
    },
    {
      "cell_type": "markdown",
      "source": [
        "**Log Regression** \n",
        "\n",
        "First we will demonstrate accuracy from logistic regression with no penalty."
      ],
      "metadata": {
        "id": "IgFdqkBG8DeS"
      }
    },
    {
      "cell_type": "code",
      "source": [
        "logreg = LogisticRegression(penalty='none', solver='saga')\n",
        "logreg.fit(x_train, y_train)\n",
        "train_acc = logreg.score(x_train, y_train)\n",
        "test_acc = logreg.score(x_test, y_test)\n",
        "print(\"NO REGULARIZATION\")\n",
        "print(\"Training Set Acc: {:.5%}\".format(train_acc))\n",
        "print(\"Testing Set Acc: {:.5%}\".format(test_acc))"
      ],
      "metadata": {
        "colab": {
          "base_uri": "https://localhost:8080/"
        },
        "id": "Jo2x4m7f8H80",
        "outputId": "b0808026-3f9e-43ae-9421-943e2682d6bb"
      },
      "execution_count": 26,
      "outputs": [
        {
          "output_type": "stream",
          "name": "stdout",
          "text": [
            "NO REGULARIZATION\n",
            "Training Set Acc: 62.41645%\n",
            "Testing Set Acc: 61.52295%\n"
          ]
        }
      ]
    },
    {
      "cell_type": "markdown",
      "source": [
        "**Lasso**"
      ],
      "metadata": {
        "id": "DX-1iL9RnxvZ"
      }
    },
    {
      "cell_type": "code",
      "source": [
        "cvals = [0.0001, 0.001, 0.01, 0.1, 1, 10, 100, 1000, 10000]\n",
        "train_acc_lasso_list = []\n",
        "test_acc_lasso_list = []\n",
        "for cval in cvals:\n",
        "    logreg = LogisticRegression(penalty='l1', C=cval, solver='saga')\n",
        "    logreg.fit(x_train, y_train)\n",
        "    logreg.fit(x_train, y_train)\n",
        "    train_acc_lasso_iter = logreg.score(x_train, y_train)\n",
        "    test_acc_lasso_iter = logreg.score(x_test, y_test)\n",
        "    train_acc_lasso_list.append(train_acc_lasso_iter)\n",
        "    test_acc_lasso_list.append(test_acc_lasso_iter)"
      ],
      "metadata": {
        "id": "YnK76Lyd8RLu"
      },
      "execution_count": 27,
      "outputs": []
    },
    {
      "cell_type": "code",
      "source": [
        "for index in range(len(cvals)):\n",
        "    print(\"L1 REGULARIZATION WITH C =\", cvals[index])\n",
        "    print(\"Training Set Acc: {:.5%}\".format(train_acc_lasso_list[index]))\n",
        "    print(\"Testing Set Acc: {:.5%}\".format(test_acc_lasso_list[index]))\n",
        "    print(\"///////////////////////////////////////////////\")"
      ],
      "metadata": {
        "colab": {
          "base_uri": "https://localhost:8080/"
        },
        "id": "G_r2bqGWpljU",
        "outputId": "96a46ecc-9c53-4945-e454-8a41fdb04c68"
      },
      "execution_count": 28,
      "outputs": [
        {
          "output_type": "stream",
          "name": "stdout",
          "text": [
            "L1 REGULARIZATION WITH C = 0.0001\n",
            "Training Set Acc: 62.34077%\n",
            "Testing Set Acc: 61.62380%\n",
            "///////////////////////////////////////////////\n",
            "L1 REGULARIZATION WITH C = 0.001\n",
            "Training Set Acc: 62.34077%\n",
            "Testing Set Acc: 61.62380%\n",
            "///////////////////////////////////////////////\n",
            "L1 REGULARIZATION WITH C = 0.01\n",
            "Training Set Acc: 62.34077%\n",
            "Testing Set Acc: 61.62380%\n",
            "///////////////////////////////////////////////\n",
            "L1 REGULARIZATION WITH C = 0.1\n",
            "Training Set Acc: 62.34077%\n",
            "Testing Set Acc: 61.62380%\n",
            "///////////////////////////////////////////////\n",
            "L1 REGULARIZATION WITH C = 1\n",
            "Training Set Acc: 62.42906%\n",
            "Testing Set Acc: 61.52295%\n",
            "///////////////////////////////////////////////\n",
            "L1 REGULARIZATION WITH C = 10\n",
            "Training Set Acc: 62.44167%\n",
            "Testing Set Acc: 61.52295%\n",
            "///////////////////////////////////////////////\n",
            "L1 REGULARIZATION WITH C = 100\n",
            "Training Set Acc: 62.41645%\n",
            "Testing Set Acc: 61.52295%\n",
            "///////////////////////////////////////////////\n",
            "L1 REGULARIZATION WITH C = 1000\n",
            "Training Set Acc: 62.41645%\n",
            "Testing Set Acc: 61.52295%\n",
            "///////////////////////////////////////////////\n",
            "L1 REGULARIZATION WITH C = 10000\n",
            "Training Set Acc: 62.41645%\n",
            "Testing Set Acc: 61.52295%\n",
            "///////////////////////////////////////////////\n"
          ]
        }
      ]
    },
    {
      "cell_type": "code",
      "source": [
        "generate_graph(\"Logistic Regression w/ L1 Regularization\", cvals, train_acc_lasso_list, test_acc_lasso_list)"
      ],
      "metadata": {
        "colab": {
          "base_uri": "https://localhost:8080/",
          "height": 299
        },
        "id": "_2-dVp-5-Ksr",
        "outputId": "07fcde0e-5728-4946-da4e-e7c44f9f5866"
      },
      "execution_count": 29,
      "outputs": [
        {
          "output_type": "display_data",
          "data": {
            "text/plain": [
              "<Figure size 432x288 with 1 Axes>"
            ],
            "image/png": "[encoded data removed]"
          },
          "metadata": {
            "needs_background": "light"
          }
        }
      ]
    },
    {
      "cell_type": "markdown",
      "source": [
        "**RIDGE**"
      ],
      "metadata": {
        "id": "yzeAzLBtrLN4"
      }
    },
    {
      "cell_type": "code",
      "source": [
        "train_acc_ridge_list = []\n",
        "test_acc_ridge_list = []\n",
        "for cval in cvals:\n",
        "    logreg = LogisticRegression(penalty='l2', C=cval, solver='saga')\n",
        "    logreg.fit(x_train, y_train)\n",
        "    logreg.fit(x_train, y_train)\n",
        "    train_acc_ridge_iter = logreg.score(x_train, y_train)\n",
        "    test_acc_ridge_iter = logreg.score(x_test, y_test)\n",
        "    train_acc_ridge_list.append(train_acc_ridge_iter)\n",
        "    test_acc_ridge_list.append(test_acc_ridge_iter)"
      ],
      "metadata": {
        "id": "xn2eSonH9jAx"
      },
      "execution_count": 42,
      "outputs": []
    },
    {
      "cell_type": "code",
      "source": [
        "for index in range(len(cvals)):\n",
        "    print(\"L2 REGULARIZATION WITH C =\", cvals[index])\n",
        "    print(\"Training Set Acc: {:.5%}\".format(train_acc_ridge_list[index]))\n",
        "    print(\"Testing Set Acc: {:.5%}\".format(test_acc_ridge_list[index]))\n",
        "    print(\"///////////////////////////////////////////////\")"
      ],
      "metadata": {
        "colab": {
          "base_uri": "https://localhost:8080/"
        },
        "id": "YSxgbozPsMDU",
        "outputId": "7e0b08ab-7acd-406e-ec6e-0a987ccbd9b4"
      },
      "execution_count": 43,
      "outputs": [
        {
          "output_type": "stream",
          "name": "stdout",
          "text": [
            "L2 REGULARIZATION WITH C = 0.0001\n",
            "Training Set Acc: 62.42906%\n",
            "Testing Set Acc: 61.27080%\n",
            "///////////////////////////////////////////////\n",
            "L2 REGULARIZATION WITH C = 0.001\n",
            "Training Set Acc: 62.42906%\n",
            "Testing Set Acc: 61.27080%\n",
            "///////////////////////////////////////////////\n",
            "L2 REGULARIZATION WITH C = 0.01\n",
            "Training Set Acc: 62.42906%\n",
            "Testing Set Acc: 61.27080%\n",
            "///////////////////////////////////////////////\n",
            "L2 REGULARIZATION WITH C = 0.1\n",
            "Training Set Acc: 62.49212%\n",
            "Testing Set Acc: 61.32123%\n",
            "///////////////////////////////////////////////\n",
            "L2 REGULARIZATION WITH C = 1\n",
            "Training Set Acc: 62.52995%\n",
            "Testing Set Acc: 61.11952%\n",
            "///////////////////////////////////////////////\n",
            "L2 REGULARIZATION WITH C = 10\n",
            "Training Set Acc: 62.52995%\n",
            "Testing Set Acc: 61.11952%\n",
            "///////////////////////////////////////////////\n",
            "L2 REGULARIZATION WITH C = 100\n",
            "Training Set Acc: 62.52995%\n",
            "Testing Set Acc: 61.11952%\n",
            "///////////////////////////////////////////////\n",
            "L2 REGULARIZATION WITH C = 1000\n",
            "Training Set Acc: 62.52995%\n",
            "Testing Set Acc: 61.11952%\n",
            "///////////////////////////////////////////////\n",
            "L2 REGULARIZATION WITH C = 10000\n",
            "Training Set Acc: 62.52995%\n",
            "Testing Set Acc: 61.11952%\n",
            "///////////////////////////////////////////////\n"
          ]
        }
      ]
    },
    {
      "cell_type": "code",
      "source": [
        "generate_graph(\"Logistic Regression w/ L2 Regularization\", cvals, train_acc_ridge_list, test_acc_ridge_list)"
      ],
      "metadata": {
        "colab": {
          "base_uri": "https://localhost:8080/",
          "height": 299
        },
        "id": "4P9Mxzk99lTs",
        "outputId": "a75a51aa-0f8d-48f6-c2a0-f842afc15cf6"
      },
      "execution_count": 44,
      "outputs": [
        {
          "output_type": "display_data",
          "data": {
            "text/plain": [
              "<Figure size 432x288 with 1 Axes>"
            ],
            "image/png": "[encoded data removed]"
          },
          "metadata": {
            "needs_background": "light"
          }
        }
      ]
    },
    {
      "cell_type": "markdown",
      "source": [
        "Now we will implement polynomial feature transformation to see how it influences L1 and L2 regularization."
      ],
      "metadata": {
        "id": "3Gl2VobDs4NK"
      }
    },
    {
      "cell_type": "code",
      "source": [
        "poly = PolynomialFeatures()\n",
        "x_train = poly.fit_transform(x_train)\n",
        "x_test = poly.fit_transform(x_test)"
      ],
      "metadata": {
        "id": "Nsh9FIpc9sEu"
      },
      "execution_count": 47,
      "outputs": []
    },
    {
      "cell_type": "code",
      "source": [
        "import warnings #upcoming things had convergence warnings, this removes them\n",
        "warnings.filterwarnings('ignore')"
      ],
      "metadata": {
        "id": "6A588H8Wf32Q"
      },
      "execution_count": 48,
      "outputs": []
    },
    {
      "cell_type": "markdown",
      "source": [
        "**Lasso w/ Polynomial Transformation**"
      ],
      "metadata": {
        "id": "bcT717M8tMJX"
      }
    },
    {
      "cell_type": "code",
      "source": [
        "cvals = [0.0001, 0.001, 0.01, 0.1, 1, 10, 100, 1000, 10000]\n",
        "train_acc_lasso_list = []\n",
        "test_acc_lasso_list = []\n",
        "for cval in cvals:\n",
        "    logreg = LogisticRegression(penalty='l1', C=cval, solver='saga')\n",
        "    logreg.fit(x_train, y_train)\n",
        "    logreg.fit(x_train, y_train)\n",
        "    train_acc_lasso_iter = logreg.score(x_train, y_train)\n",
        "    test_acc_lasso_iter = logreg.score(x_test, y_test)\n",
        "    train_acc_lasso_list.append(train_acc_lasso_iter)\n",
        "    test_acc_lasso_list.append(test_acc_lasso_iter)"
      ],
      "metadata": {
        "id": "1KFT_OE2tYJd"
      },
      "execution_count": 37,
      "outputs": []
    },
    {
      "cell_type": "code",
      "source": [
        "for index in range(len(cvals)):\n",
        "    print(\"L1 REGULARIZATION WITH C =\", cvals[index])\n",
        "    print(\"Training Set Acc: {:.5%}\".format(train_acc_lasso_list[index]))\n",
        "    print(\"Testing Set Acc: {:.5%}\".format(test_acc_lasso_list[index]))\n",
        "    print(\"///////////////////////////////////////////////\")"
      ],
      "metadata": {
        "colab": {
          "base_uri": "https://localhost:8080/"
        },
        "outputId": "c112fb9b-dcfb-49ac-e815-13446a085bd6",
        "id": "yBoTtbbptdSI"
      },
      "execution_count": 38,
      "outputs": [
        {
          "output_type": "stream",
          "name": "stdout",
          "text": [
            "L1 REGULARIZATION WITH C = 0.0001\n",
            "Training Set Acc: 62.16421%\n",
            "Testing Set Acc: 62.32980%\n",
            "///////////////////////////////////////////////\n",
            "L1 REGULARIZATION WITH C = 0.001\n",
            "Training Set Acc: 62.16421%\n",
            "Testing Set Acc: 62.32980%\n",
            "///////////////////////////////////////////////\n",
            "L1 REGULARIZATION WITH C = 0.01\n",
            "Training Set Acc: 62.16421%\n",
            "Testing Set Acc: 62.32980%\n",
            "///////////////////////////////////////////////\n",
            "L1 REGULARIZATION WITH C = 0.1\n",
            "Training Set Acc: 62.18943%\n",
            "Testing Set Acc: 62.32980%\n",
            "///////////////////////////////////////////////\n",
            "L1 REGULARIZATION WITH C = 1\n",
            "Training Set Acc: 62.83264%\n",
            "Testing Set Acc: 61.72466%\n",
            "///////////////////////////////////////////////\n",
            "L1 REGULARIZATION WITH C = 10\n",
            "Training Set Acc: 62.74436%\n",
            "Testing Set Acc: 61.32123%\n",
            "///////////////////////////////////////////////\n",
            "L1 REGULARIZATION WITH C = 100\n",
            "Training Set Acc: 62.75697%\n",
            "Testing Set Acc: 61.42209%\n",
            "///////////////////////////////////////////////\n",
            "L1 REGULARIZATION WITH C = 1000\n",
            "Training Set Acc: 62.75697%\n",
            "Testing Set Acc: 61.42209%\n",
            "///////////////////////////////////////////////\n",
            "L1 REGULARIZATION WITH C = 10000\n",
            "Training Set Acc: 62.75697%\n",
            "Testing Set Acc: 61.42209%\n",
            "///////////////////////////////////////////////\n"
          ]
        }
      ]
    },
    {
      "cell_type": "code",
      "source": [
        "generate_graph(\"Logistic Regression w/ L1 Reg. & Poly Transformation\", cvals, train_acc_lasso_list, test_acc_lasso_list)"
      ],
      "metadata": {
        "colab": {
          "base_uri": "https://localhost:8080/",
          "height": 299
        },
        "id": "avBh7KMyC3sU",
        "outputId": "4bd34576-7aa0-405d-e886-589f54a45224"
      },
      "execution_count": 39,
      "outputs": [
        {
          "output_type": "display_data",
          "data": {
            "text/plain": [
              "<Figure size 432x288 with 1 Axes>"
            ],
            "image/png": "[encoded data removed]"
          },
          "metadata": {
            "needs_background": "light"
          }
        }
      ]
    },
    {
      "cell_type": "markdown",
      "source": [
        "**Ridge w/ Polynomial Transformation**"
      ],
      "metadata": {
        "id": "TlrFP1Qn0RMk"
      }
    },
    {
      "cell_type": "code",
      "source": [
        "train_acc_ridge_list = []\n",
        "test_acc_ridge_list = []\n",
        "for cval in cvals:\n",
        "    logreg = LogisticRegression(penalty='l2', C=cval, solver='saga')\n",
        "    logreg.fit(x_train, y_train)\n",
        "    logreg.fit(x_train, y_train)\n",
        "    train_acc_ridge_iter = logreg.score(x_train, y_train)\n",
        "    test_acc_ridge_iter = logreg.score(x_test, y_test)\n",
        "    train_acc_ridge_list.append(train_acc_ridge_iter)\n",
        "    test_acc_ridge_list.append(test_acc_ridge_iter)"
      ],
      "metadata": {
        "id": "wKl1-drwDMK4"
      },
      "execution_count": 49,
      "outputs": []
    },
    {
      "cell_type": "code",
      "source": [
        "for index in range(len(cvals)):\n",
        "    print(\"L2 REGULARIZATION WITH C =\", cvals[index])\n",
        "    print(\"Training Set Acc: {:.5%}\".format(train_acc_ridge_list[index]))\n",
        "    print(\"Testing Set Acc: {:.5%}\".format(test_acc_ridge_list[index]))\n",
        "    print(\"///////////////////////////////////////////////\")"
      ],
      "metadata": {
        "colab": {
          "base_uri": "https://localhost:8080/"
        },
        "id": "rCs_RYe_DTbJ",
        "outputId": "b5530fd2-9be8-415b-a5a7-f005b1a5d416"
      },
      "execution_count": 50,
      "outputs": [
        {
          "output_type": "stream",
          "name": "stdout",
          "text": [
            "L2 REGULARIZATION WITH C = 0.0001\n",
            "Training Set Acc: 62.22727%\n",
            "Testing Set Acc: 62.07766%\n",
            "///////////////////////////////////////////////\n",
            "L2 REGULARIZATION WITH C = 0.001\n",
            "Training Set Acc: 62.22727%\n",
            "Testing Set Acc: 62.07766%\n",
            "///////////////////////////////////////////////\n",
            "L2 REGULARIZATION WITH C = 0.01\n",
            "Training Set Acc: 62.26510%\n",
            "Testing Set Acc: 62.07766%\n",
            "///////////////////////////////////////////////\n",
            "L2 REGULARIZATION WITH C = 0.1\n",
            "Training Set Acc: 62.61824%\n",
            "Testing Set Acc: 61.22037%\n",
            "///////////////////////////////////////////////\n",
            "L2 REGULARIZATION WITH C = 1\n",
            "Training Set Acc: 62.90831%\n",
            "Testing Set Acc: 60.91780%\n",
            "///////////////////////////////////////////////\n",
            "L2 REGULARIZATION WITH C = 10\n",
            "Training Set Acc: 62.93354%\n",
            "Testing Set Acc: 60.96823%\n",
            "///////////////////////////////////////////////\n",
            "L2 REGULARIZATION WITH C = 100\n",
            "Training Set Acc: 62.93354%\n",
            "Testing Set Acc: 60.96823%\n",
            "///////////////////////////////////////////////\n",
            "L2 REGULARIZATION WITH C = 1000\n",
            "Training Set Acc: 62.93354%\n",
            "Testing Set Acc: 60.96823%\n",
            "///////////////////////////////////////////////\n",
            "L2 REGULARIZATION WITH C = 10000\n",
            "Training Set Acc: 62.93354%\n",
            "Testing Set Acc: 60.96823%\n",
            "///////////////////////////////////////////////\n"
          ]
        }
      ]
    },
    {
      "cell_type": "code",
      "source": [
        "generate_graph(\"Logistic Regression w/ L2 Reg. & Poly Transformation\", cvals, train_acc_ridge_list, test_acc_ridge_list)\n"
      ],
      "metadata": {
        "colab": {
          "base_uri": "https://localhost:8080/",
          "height": 299
        },
        "id": "HGGVycuVDNfQ",
        "outputId": "ea127012-44e2-4e05-c8fb-c02e3af08206"
      },
      "execution_count": 51,
      "outputs": [
        {
          "output_type": "display_data",
          "data": {
            "text/plain": [
              "<Figure size 432x288 with 1 Axes>"
            ],
            "image/png": "[encoded data removed]"
          },
          "metadata": {
            "needs_background": "light"
          }
        }
      ]
    },
    {
      "cell_type": "code",
      "source": [
        ""
      ],
      "metadata": {
        "id": "ozmtDQlP0Psi"
      },
      "execution_count": null,
      "outputs": []
    }
  ]
}